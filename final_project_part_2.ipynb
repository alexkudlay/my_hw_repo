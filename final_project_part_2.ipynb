{
 "cells": [
  {
   "cell_type": "markdown",
   "metadata": {},
   "source": [
    "# Final Project, Part 2: Project Design Writeup\n",
    "## US Equity model, inspired by the Bloomberg model"
   ]
  },
  {
   "cell_type": "markdown",
   "metadata": {},
   "source": [
    "The goal of the project is to create a simplified version of the Bloomberg equity model and use it to explore some methodological decisions made in its creation.\n",
    "\n",
    "The cross-sectional stock risk model is formulated as an additive risk-factor modeal as the following linear regression model:\n",
    "\n",
    "$$ r_n^{(t)} = \\sum_{p=1}^{P} X_{np}^{(t)} f_p^{(t)} + \\varepsilon_n^{(t)},$$\n",
    "\n",
    "where $r_n^{(t)}$ is one return of $n$-th stock on day $t$, $X_{np}^{(t)}$ is the  factor exposure of $n$-th stock to factor $p$ on day $t$, $f_p^{(t)}$ is the $p$-th factor one day return and $\\varepsilon_n^{(t)}$ the idiosyncratic return of $n$-th stock. There are $N$ stocks and $P$ factors. In this model the factor exposures $X$ are known and calculated from market and fundamental factors, while daily factor returns $f_p^{(t)}$ are to be determined from the regression.\n",
    "\n",
    "The Bloomberg equity model uses one market factor with unit exposure for all stocks, 40 categorical variables based on Bloomberg industry classification, and 10 style factors based on price and financial data.\n",
    "\n",
    "I will use a simplified model with several simplified style factors inspired by the Bloomberg model. The stock universe is Russell 3000. The regressions will be run daily on one day's cross-sectional returns over one year's period.\n",
    "\n",
    "The goal of any factor model of this type is to increase $R^2$, which means attributing as much as possible variation in the stocks to factors and as little as possible to the idiosyncratic return $\\varepsilon_n^{(t)}$. This can be achieved by a) selecting the right factors (and transforming them appropriately), and b) applying the right regression methodology. I am planning to explore the influence of different choices resulting in different $R^2$\n",
    "\n",
    "#### Industry Classification Variables\n",
    "The first question is how to select the appropriate industry classification variables. The Bloomberg model uses 40 variables, but there are many more nodes in the classification (around 200) and it's not clear why these 40 were selected. I am planning to use Lasso and Random Forest regressions for industry classification feature selection and compare the results obtained from the two approaches. It will be interesting to see if a cross-validated MSE can be improved over the feature selection used in the Bloomberg model. There are also other industry classification schemes, the standard being the Global Industry Classification Standard (GICS). I will explore will classification results in a lower cross-validated MSE.\n",
    "\n",
    "#### Choice of Regression methodology\n",
    "The second question is what is the appropriate regression methodology for this problem. The Bloomberg model uses weighted least squares, with the weights being the square root of the market capitalization. The idea is that large market cap companies are being primarily moved by factors, while small cap companies move more idiosyncratically. I will explore if weighted least squares indeed provide much benefit over OLS and explore other linear regression methodologies, such as Robust Regression and Quantile regressions. The linear regression results will be compared to Random Forest Regression in terms of a cross-validated MSE.\n",
    "\n",
    "As a result of this research I hope to have a better set of features and a better regression methodology resulting in a higher $R^2$"
   ]
  },
  {
   "cell_type": "code",
   "execution_count": null,
   "metadata": {
    "collapsed": true
   },
   "outputs": [],
   "source": []
  }
 ],
 "metadata": {
  "anaconda-cloud": {},
  "kernelspec": {
   "display_name": "Python [conda root]",
   "language": "python",
   "name": "conda-root-py"
  },
  "language_info": {
   "codemirror_mode": {
    "name": "ipython",
    "version": 2
   },
   "file_extension": ".py",
   "mimetype": "text/x-python",
   "name": "python",
   "nbconvert_exporter": "python",
   "pygments_lexer": "ipython2",
   "version": "2.7.12"
  }
 },
 "nbformat": 4,
 "nbformat_minor": 1
}
