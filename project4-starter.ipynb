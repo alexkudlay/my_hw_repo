{
 "cells": [
  {
   "cell_type": "markdown",
   "metadata": {},
   "source": [
    "# Project 4\n",
    "\n",
    "In this project, you will summarize and present your analysis from Projects 1-3."
   ]
  },
  {
   "cell_type": "markdown",
   "metadata": {},
   "source": [
    "### Intro: Write a problem Statement/ Specific Aim for this project"
   ]
  },
  {
   "cell_type": "markdown",
   "metadata": {},
   "source": [
    "Answer: The goal of the project is to investigate the influence of different variables on the probability to being admitted to the University, using a specific defined dataset."
   ]
  },
  {
   "cell_type": "markdown",
   "metadata": {},
   "source": [
    "### Dataset:  Write up a description of your data and any cleaning that was completed"
   ]
  },
  {
   "cell_type": "markdown",
   "metadata": {},
   "source": [
    "Answer: The dataset consists of 4 variables: a) binary admit variable, with 1 signifying success, b) continous gre variable, giving the applicant's GRE score, c) continuous gpa variable, giving the applicant's GPA score and d) categorical prestige variable, giving the applicant's school rank as an integer between 1 and 4, with the best rank being 1 and the worst being 4.\n",
    "Rows with any N/A data were removed from the analysis"
   ]
  },
  {
   "cell_type": "markdown",
   "metadata": {
    "collapsed": true
   },
   "source": [
    "### Demo: Provide a table that explains the data by admission status"
   ]
  },
  {
   "cell_type": "markdown",
   "metadata": {},
   "source": [
    "Mean (STD) or counts by admission status for each variable \n",
    "\n",
    "| Not Admitted | Admitted\n",
    "---| ---|---\n",
    "GPA | 573.5(116.0)  | 618.5(109.2)\n",
    "GRE | 3.34(0.37) | 3.48(0.37)\n",
    "Prestige 1 | 28 | 33 \n",
    "Prestige 2 | 95 | 53 \n",
    "Prestige 3 | 93 | 28 \n",
    "Prestige 4 | 55 | 12 "
   ]
  },
  {
   "cell_type": "markdown",
   "metadata": {},
   "source": [
    "### Methods: Write up the methods used in your analysis"
   ]
  },
  {
   "cell_type": "markdown",
   "metadata": {},
   "source": [
    "Answer: A logistic regression was used to predict the binary variable admit (1 signifying success) as a function of a linear combination of GPA, GRE and three dummy prestige variables. No transformations were performed on the variables. No interaction terms were considered."
   ]
  },
  {
   "cell_type": "markdown",
   "metadata": {},
   "source": [
    "### Results: Write up your results"
   ]
  },
  {
   "cell_type": "markdown",
   "metadata": {},
   "source": [
    "Answer: As expected we find positive coefficient on the GRE and GPA variables and negatives coefficients on the three prestige dummy variables. This is consistent with out expectation that higher GRE score and higher GPA would lead to a higher probability of admission, while lower rank (i.e. 2,3,4 with 4 being the worst) would decrease the probability of admission.\n",
    "In particular we find that a unit increase on GRE inscreases the odds of admission by a factor of 1.0022, a unit increase  in GPA - by a factor of 2.18 and having prestige 2,3,4 decrease the odds (compared to prestige=1) by the factors 0.506, 0.262, 0.211, respectively."
   ]
  },
  {
   "cell_type": "markdown",
   "metadata": {},
   "source": [
    "### Visuals: Provide a table or visualization of these results"
   ]
  },
  {
   "cell_type": "markdown",
   "metadata": {},
   "source": [
    "Odds-ratio factors\n",
    "\n",
    "variable      | factor\n",
    "---| ---\n",
    "gre           |  1.002221\n",
    "gpa            | 2.180027\n",
    "prestige_2.0  |  0.506548\n",
    "prestige_3.0  |  0.262192\n",
    "prestige_4.0  |  0.211525\n",
    "intercept     |  0.020716\n"
   ]
  },
  {
   "cell_type": "markdown",
   "metadata": {},
   "source": [
    "Box plots of predicted admission probabilities as a function of GRE scores. We can see that the probabilites increase with GRE.\n",
    "<img src='logit.png' height= 70% width= 70%>"
   ]
  },
  {
   "cell_type": "markdown",
   "metadata": {},
   "source": [
    "### Discussion: Write up your discussion and future steps"
   ]
  },
  {
   "cell_type": "markdown",
   "metadata": {},
   "source": [
    "Answer: Our results are consistent with our prior expectations of the effects of GRE, GPA and prestige. The model used was the simplest logit with a linear combination of the variables. We can try to improve our analysis looking at the effect of including polynomial and interaction terms into the logistic regression. A guidance whether this might improve the results should be provided by looking at the residuals and making sure there are no discernable patterns in the residuals. Along the same lines we can try to transform our variables to reduce skew and see if it improves the logistic $R^2$.  We should also look at the effects of possible outliers and influential points by applying standard regression diagnostic methods."
   ]
  }
 ],
 "metadata": {
  "anaconda-cloud": {},
  "kernelspec": {
   "display_name": "Python [default]",
   "language": "python",
   "name": "python2"
  },
  "language_info": {
   "codemirror_mode": {
    "name": "ipython",
    "version": 2
   },
   "file_extension": ".py",
   "mimetype": "text/x-python",
   "name": "python",
   "nbconvert_exporter": "python",
   "pygments_lexer": "ipython2",
   "version": "2.7.12"
  }
 },
 "nbformat": 4,
 "nbformat_minor": 0
}
